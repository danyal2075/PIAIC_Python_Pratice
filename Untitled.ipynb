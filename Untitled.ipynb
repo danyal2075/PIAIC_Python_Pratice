{
 "cells": [
  {
   "cell_type": "code",
   "execution_count": 5,
   "id": "4ae43007",
   "metadata": {},
   "outputs": [],
   "source": [
    "employee = [\n",
    "    {\n",
    "        \"employeeID\":1,\n",
    "        \"name\":\"sohail danyal\",\n",
    "        \"fathername\":\"Qamar Zaman\",\n",
    "        \"Job\":\"Pick\",\n",
    "    },\n",
    "    {\n",
    "        \"employeeID\":2,\n",
    "        \"name\":\"sohail danyal\",\n",
    "        \"fathername\":\"Qamar Zaman\",\n",
    "        \"Job\":\"Pick\",\n",
    "    },\n",
    "    {\n",
    "        \"employeeID\":3,\n",
    "        \"name\":\"sohail danyal\",\n",
    "        \"fathername\":\"Qamar Zaman\",\n",
    "        \"Job\":\"Pick\",\n",
    "    }\n",
    "]\n"
   ]
  },
  {
   "cell_type": "code",
   "execution_count": 6,
   "id": "e83152f1",
   "metadata": {},
   "outputs": [
    {
     "name": "stdout",
     "output_type": "stream",
     "text": [
      "Input your id number : 2\n",
      "{'employeeID': 2, 'name': 'sohail danyal', 'fathername': 'Qamar Zaman', 'Job': 'Pick'}\n"
     ]
    }
   ],
   "source": [
    "id = int(input(\"Input your id number : \"))\n",
    "details = None\n",
    "for i in employee:\n",
    "    #   print(i)\n",
    "    if i[\"employeeID\"] == id:\n",
    "        details = i\n",
    "        break\n",
    "#for j, k in details.items():\n",
    "#    print(j,\"  :  \",k)\n",
    "\n",
    "print(details)"
   ]
  },
  {
   "cell_type": "code",
   "execution_count": null,
   "id": "47346e4d",
   "metadata": {},
   "outputs": [],
   "source": []
  }
 ],
 "metadata": {
  "kernelspec": {
   "display_name": "Python 3.9.12 ('base')",
   "language": "python",
   "name": "python3"
  },
  "language_info": {
   "codemirror_mode": {
    "name": "ipython",
    "version": 3
   },
   "file_extension": ".py",
   "mimetype": "text/x-python",
   "name": "python",
   "nbconvert_exporter": "python",
   "pygments_lexer": "ipython3",
   "version": "3.9.12"
  },
  "vscode": {
   "interpreter": {
    "hash": "22828c49ee1b78b7842d89eec0f0de4f7ce820941f0b77c803d6b879d548e5f7"
   }
  }
 },
 "nbformat": 4,
 "nbformat_minor": 5
}
